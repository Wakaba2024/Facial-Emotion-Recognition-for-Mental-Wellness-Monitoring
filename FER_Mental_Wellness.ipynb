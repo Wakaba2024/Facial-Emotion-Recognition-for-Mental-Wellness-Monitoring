{
 "cells": [
  {
   "cell_type": "markdown",
   "id": "11e4c240-d90c-4b44-b350-a10e5c9a9ab6",
   "metadata": {},
   "source": [
    "#  Data & Annotation"
   ]
  },
  {
   "cell_type": "markdown",
   "id": "285cc149-cdc3-49a5-9363-771309a49461",
   "metadata": {},
   "source": [
    "In this section we load the dataset, check its shape, and print out  the class distribution.\n",
    "\n",
    "Then we map numeric labels to emotion names.\n",
    "\n",
    "Then we remove corrupted or incorrectly labeled entries"
   ]
  },
  {
   "cell_type": "code",
   "execution_count": 1,
   "id": "f703280c-a033-4e32-9483-1b7967c52be3",
   "metadata": {
    "collapsed": true,
    "jupyter": {
     "outputs_hidden": true
    }
   },
   "outputs": [
    {
     "name": "stdout",
     "output_type": "stream",
     "text": [
      "Requirement already satisfied: deeplake in c:\\users\\user\\anaconda3\\lib\\site-packages (3.9.51)\n",
      "Requirement already satisfied: numpy==1.26.4 in c:\\users\\user\\anaconda3\\lib\\site-packages (from deeplake) (1.26.4)\n",
      "Requirement already satisfied: pillow~=10.4.0 in c:\\users\\user\\anaconda3\\lib\\site-packages (from deeplake) (10.4.0)\n",
      "Requirement already satisfied: boto3 in c:\\users\\user\\anaconda3\\lib\\site-packages (from deeplake) (1.40.9)\n",
      "Requirement already satisfied: click in c:\\users\\user\\anaconda3\\lib\\site-packages (from deeplake) (8.1.7)\n",
      "Requirement already satisfied: six~=1.16.0 in c:\\users\\user\\anaconda3\\lib\\site-packages (from deeplake) (1.16.0)\n",
      "Requirement already satisfied: pathos in c:\\users\\user\\anaconda3\\lib\\site-packages (from deeplake) (0.3.4)\n",
      "Requirement already satisfied: humbug>=0.3.1 in c:\\users\\user\\anaconda3\\lib\\site-packages (from deeplake) (0.3.2)\n",
      "Requirement already satisfied: tqdm in c:\\users\\user\\anaconda3\\lib\\site-packages (from deeplake) (4.66.5)\n",
      "Requirement already satisfied: lz4 in c:\\users\\user\\anaconda3\\lib\\site-packages (from deeplake) (4.3.2)\n",
      "Requirement already satisfied: pyjwt in c:\\users\\user\\anaconda3\\lib\\site-packages (from deeplake) (2.8.0)\n",
      "Requirement already satisfied: pydantic in c:\\users\\user\\anaconda3\\lib\\site-packages (from deeplake) (2.11.7)\n",
      "Requirement already satisfied: requests in c:\\users\\user\\anaconda3\\lib\\site-packages (from humbug>=0.3.1->deeplake) (2.32.4)\n",
      "Requirement already satisfied: botocore<1.41.0,>=1.40.9 in c:\\users\\user\\anaconda3\\lib\\site-packages (from boto3->deeplake) (1.40.9)\n",
      "Requirement already satisfied: jmespath<2.0.0,>=0.7.1 in c:\\users\\user\\anaconda3\\lib\\site-packages (from boto3->deeplake) (1.0.1)\n",
      "Requirement already satisfied: s3transfer<0.14.0,>=0.13.0 in c:\\users\\user\\anaconda3\\lib\\site-packages (from boto3->deeplake) (0.13.1)\n",
      "Requirement already satisfied: colorama in c:\\users\\user\\anaconda3\\lib\\site-packages (from click->deeplake) (0.4.6)\n",
      "Requirement already satisfied: ppft>=1.7.7 in c:\\users\\user\\anaconda3\\lib\\site-packages (from pathos->deeplake) (1.7.7)\n",
      "Requirement already satisfied: dill>=0.4.0 in c:\\users\\user\\anaconda3\\lib\\site-packages (from pathos->deeplake) (0.4.0)\n",
      "Requirement already satisfied: pox>=0.3.6 in c:\\users\\user\\anaconda3\\lib\\site-packages (from pathos->deeplake) (0.3.6)\n",
      "Requirement already satisfied: multiprocess>=0.70.18 in c:\\users\\user\\anaconda3\\lib\\site-packages (from pathos->deeplake) (0.70.18)\n",
      "Requirement already satisfied: annotated-types>=0.6.0 in c:\\users\\user\\anaconda3\\lib\\site-packages (from pydantic->deeplake) (0.6.0)\n",
      "Requirement already satisfied: pydantic-core==2.33.2 in c:\\users\\user\\anaconda3\\lib\\site-packages (from pydantic->deeplake) (2.33.2)\n",
      "Requirement already satisfied: typing-extensions>=4.12.2 in c:\\users\\user\\anaconda3\\lib\\site-packages (from pydantic->deeplake) (4.14.0)\n",
      "Requirement already satisfied: typing-inspection>=0.4.0 in c:\\users\\user\\anaconda3\\lib\\site-packages (from pydantic->deeplake) (0.4.1)\n",
      "Requirement already satisfied: python-dateutil<3.0.0,>=2.1 in c:\\users\\user\\anaconda3\\lib\\site-packages (from botocore<1.41.0,>=1.40.9->boto3->deeplake) (2.9.0.post0)\n",
      "Requirement already satisfied: urllib3!=2.2.0,<3,>=1.25.4 in c:\\users\\user\\anaconda3\\lib\\site-packages (from botocore<1.41.0,>=1.40.9->boto3->deeplake) (2.2.3)\n",
      "Requirement already satisfied: charset_normalizer<4,>=2 in c:\\users\\user\\anaconda3\\lib\\site-packages (from requests->humbug>=0.3.1->deeplake) (3.3.2)\n",
      "Requirement already satisfied: idna<4,>=2.5 in c:\\users\\user\\anaconda3\\lib\\site-packages (from requests->humbug>=0.3.1->deeplake) (3.7)\n",
      "Requirement already satisfied: certifi>=2017.4.17 in c:\\users\\user\\anaconda3\\lib\\site-packages (from requests->humbug>=0.3.1->deeplake) (2025.8.3)\n"
     ]
    }
   ],
   "source": [
    "!pip install -U deeplake"
   ]
  },
  {
   "cell_type": "code",
   "execution_count": 2,
   "id": "52a957a0-9712-4d7d-9bfc-961530a0cfca",
   "metadata": {
    "collapsed": true,
    "jupyter": {
     "outputs_hidden": true
    },
    "scrolled": true
   },
   "outputs": [
    {
     "name": "stderr",
     "output_type": "stream",
     "text": [
      "C:\\Users\\user\\anaconda3\\Lib\\site-packages\\deeplake\\util\\check_latest_version.py:32: UserWarning: A newer version of deeplake (4.2.14) is available. It's recommended that you update to the latest version using `pip install -U deeplake`.\n",
      "  warnings.warn(\n"
     ]
    }
   ],
   "source": [
    "# GETTING THE NEEDED LIBRARIES\n",
    "import hub \n",
    "import deeplake\n",
    "import pandas as pd\n",
    "import numpy as np\n",
    "import matplotlib.pyplot as plt\n",
    "import tensorflow as tf\n",
    "from collections import Counter"
   ]
  },
  {
   "cell_type": "code",
   "execution_count": 3,
   "id": "04d071a0-969a-4720-ab08-e6862e82b753",
   "metadata": {},
   "outputs": [
    {
     "name": "stderr",
     "output_type": "stream",
     "text": [
      "-"
     ]
    },
    {
     "name": "stdout",
     "output_type": "stream",
     "text": [
      "This dataset can be visualized in Jupyter Notebook by ds.visualize() or at https://app.activeloop.ai/activeloop/fer2013-train\n",
      "\n"
     ]
    },
    {
     "name": "stderr",
     "output_type": "stream",
     "text": [
      "/"
     ]
    },
    {
     "name": "stdout",
     "output_type": "stream",
     "text": [
      "hub://activeloop/fer2013-train loaded successfully.\n",
      "\n"
     ]
    },
    {
     "name": "stderr",
     "output_type": "stream",
     "text": [
      " "
     ]
    }
   ],
   "source": [
    "# Load the FER2013 training dataset\n",
    "ds = deeplake.load('hub://activeloop/fer2013-train', read_only=True)"
   ]
  },
  {
   "cell_type": "code",
   "execution_count": 4,
   "id": "8064a640-5b2d-4899-8f39-468fd9cc371d",
   "metadata": {},
   "outputs": [
    {
     "name": "stdout",
     "output_type": "stream",
     "text": [
      "Dataset(path='hub://activeloop/fer2013-train', read_only=True, tensors=['images', 'labels'])\n",
      "Sample keys: {'images': Tensor(key='images'), 'labels': Tensor(key='labels')}\n"
     ]
    }
   ],
   "source": [
    "# Look at the data\n",
    "print(ds)  \n",
    "print(\"Sample keys:\", ds.tensors)  "
   ]
  },
  {
   "cell_type": "code",
   "execution_count": 5,
   "id": "15efae5e-76e5-4aa1-ba25-f2177d7f52dd",
   "metadata": {},
   "outputs": [
    {
     "name": "stdout",
     "output_type": "stream",
     "text": [
      "Class distribution: Counter({3: 7215, 6: 4965, 4: 4830, 2: 4097, 0: 3995, 5: 3171, 1: 436})\n"
     ]
    }
   ],
   "source": [
    "# Check class distribution\n",
    "labels = np.array([int(lbl.numpy()[0]) for lbl in ds.labels])\n",
    "class_counts = Counter(labels)\n",
    "print(\"Class distribution:\", class_counts)\n",
    "\n",
    "# Map numeric labels to emotion names\n",
    "emotion_map = {\n",
    "    0: \"Angry\", 1: \"Disgust\", 2: \"Fear\", 3: \"Happy\", \n",
    "    4: \"Sad\", 5: \"Surprise\", 6: \"Neutral\"\n",
    "}"
   ]
  },
  {
   "cell_type": "code",
   "execution_count": 6,
   "id": "3880c882-8056-459e-a257-cf8c419410de",
   "metadata": {},
   "outputs": [
    {
     "data": {
      "image/png": "[encoded data removed]",
      "text/plain": [
       "<Figure size 640x480 with 1 Axes>"
      ]
     },
     "metadata": {},
     "output_type": "display_data"
    }
   ],
   "source": [
    "# Plot class balance\n",
    "plt.bar([emotion_map[i] for i in class_counts.keys()], class_counts.values())\n",
    "plt.title(\"Class Distribution\")\n",
    "plt.xticks(rotation=45)\n",
    "plt.show()"
   ]
  },
  {
   "cell_type": "code",
   "execution_count": 7,
   "id": "855f694f-6f5a-4a6c-b25d-0b1b2d5a1265",
   "metadata": {},
   "outputs": [
    {
     "name": "stderr",
     "output_type": "stream",
     "text": [
      "C:\\Users\\user\\anaconda3\\Lib\\site-packages\\deeplake\\core\\tensor.py:719: UserWarning: Indexing by integer in a for loop, like `for i in range(len(ds)): ... ds.tensor[i]` can be quite slow. Use `for i, sample in enumerate(ds)` instead.\n",
      "  warnings.warn(\n"
     ]
    },
    {
     "name": "stdout",
     "output_type": "stream",
     "text": [
      "Valid samples: 28709 / 28709\n"
     ]
    }
   ],
   "source": [
    "# Remove samples with invalid labels or corrupted images\n",
    "clean_indices = [i for i in range(len(ds)) if ds.labels[i].numpy()[0] in emotion_map]\n",
    "print(f\"Valid samples: {len(clean_indices)} / {len(ds)}\")"
   ]
  },
  {
   "cell_type": "markdown",
   "id": "3687bb10-a4bb-42c7-bdb1-1a46061b8e24",
   "metadata": {},
   "source": [
    "# Data Preprocessing & Augmentation"
   ]
  },
  {
   "cell_type": "markdown",
   "id": "dd37012e-ec75-4a28-b9a1-c64297d02420",
   "metadata": {},
   "source": [
    "In this section we resize and normalize images.\n",
    "\n",
    "convert grayscale images to (48,48,1).\n",
    "\n",
    "One-hot encode labels for training.\n",
    "\n",
    "Set up augmentation for more robust training."
   ]
  },
  {
   "cell_type": "code",
   "execution_count": 8,
   "id": "7f07ab80-71db-434f-b16b-9d304f6eca33",
   "metadata": {},
   "outputs": [],
   "source": [
    "import tensorflow as tf\n",
    "from tensorflow.keras.preprocessing.image import ImageDataGenerator"
   ]
  },
  {
   "cell_type": "code",
   "execution_count": 9,
   "id": "2c6f5623-eeb1-48f3-a07e-17d1bc2f9306",
   "metadata": {},
   "outputs": [],
   "source": [
    "IMG_SIZE = (48, 48)\n",
    "\n",
    "# Convert dataset to NumPy arrays\n",
    "X = np.array([np.squeeze(ds.images[i].numpy()) for i in clean_indices])\n",
    "y = np.array([int(ds.labels[i].numpy()[0]) for i in clean_indices])"
   ]
  },
  {
   "cell_type": "code",
   "execution_count": 10,
   "id": "f6b7e9f6-79c5-479f-bde8-ae6010664400",
   "metadata": {},
   "outputs": [],
   "source": [
    "# Normalize (0-255 → 0-1)\n",
    "X = X / 255.0\n",
    "X = np.expand_dims(X, -1)  # Adding the channel dimension for CNN"
   ]
  },
  {
   "cell_type": "code",
   "execution_count": 11,
   "id": "a151f6cb-1ca6-4f5e-bb3e-a02dcbf354f7",
   "metadata": {},
   "outputs": [],
   "source": [
    "# One-hot encode labels\n",
    "y = tf.keras.utils.to_categorical(y, num_classes=len(emotion_map))"
   ]
  },
  {
   "cell_type": "code",
   "execution_count": 12,
   "id": "83f01627-d36d-4697-aa6c-937b23d538c6",
   "metadata": {},
   "outputs": [],
   "source": [
    "# Data augmentation\n",
    "datagen = ImageDataGenerator(\n",
    "    rotation_range=15,\n",
    "    width_shift_range=0.1,\n",
    "    height_shift_range=0.1,\n",
    "    zoom_range=0.1,\n",
    "    horizontal_flip=True\n",
    ")\n",
    "datagen.fit(X)"
   ]
  },
  {
   "cell_type": "markdown",
   "id": "b9ee8e58-6f3f-48d3-b99c-0ef414663ebd",
   "metadata": {},
   "source": [
    "# Model Building & Training"
   ]
  },
  {
   "cell_type": "markdown",
   "id": "c3d9a806-1c5a-4420-ad6a-c7367ca8f121",
   "metadata": {},
   "source": [
    "In this section we split the dataset into training and validation sets\n",
    "\n",
    "Set up data augmentation for training\n",
    "\n",
    "Keep validation set clean\n",
    "\n",
    "Build the CNN model\n",
    "\n",
    "Compile the model\n",
    "\n",
    "Train the model\n",
    "\n",
    "Train CNN with class weights (handles imbalance)"
   ]
  },
  {
   "cell_type": "code",
   "execution_count": 13,
   "id": "ec4619ae-1154-4da4-8c55-6d828bc1c581",
   "metadata": {},
   "outputs": [],
   "source": [
    "from tensorflow.keras.models import Sequential\n",
    "from tensorflow.keras.layers import Conv2D, MaxPooling2D, Flatten, Dense, Dropout, BatchNormalization\n",
    "from sklearn.model_selection import train_test_split\n",
    "from tensorflow.keras.preprocessing.image import ImageDataGenerator\n",
    "from sklearn.utils.class_weight import compute_class_weight"
   ]
  },
  {
   "cell_type": "code",
   "execution_count": 14,
   "id": "31fc4f1a-5de2-4de9-abe3-1161b36970cd",
   "metadata": {},
   "outputs": [],
   "source": [
    "# Split into train and validation sets\n",
    "X_train, X_val, y_train, y_val = train_test_split(\n",
    "    X, y, test_size=0.2, stratify=y, random_state=42\n",
    ")"
   ]
  },
  {
   "cell_type": "code",
   "execution_count": 15,
   "id": "69088c6f-99ea-4587-b68e-7fe4583fa7b3",
   "metadata": {},
   "outputs": [],
   "source": [
    "# Data augmentation for training\n",
    "train_datagen = ImageDataGenerator(\n",
    "    rotation_range=15,\n",
    "    width_shift_range=0.1,\n",
    "    height_shift_range=0.1,\n",
    "    zoom_range=0.1,\n",
    "    horizontal_flip=True\n",
    ")\n",
    "train_gen = train_datagen.flow(X_train, y_train, batch_size=64)"
   ]
  },
  {
   "cell_type": "code",
   "execution_count": 16,
   "id": "493507a7-7077-4b95-a0cf-fafff2ad5528",
   "metadata": {},
   "outputs": [],
   "source": [
    "# Validation generator (no augmentation, just normalization)\n",
    "val_datagen = ImageDataGenerator()\n",
    "val_gen = val_datagen.flow(X_val, y_val, batch_size=64)"
   ]
  },
  {
   "cell_type": "code",
   "execution_count": 17,
   "id": "eb834581-fbaa-4164-be45-cbe99487c2cf",
   "metadata": {},
   "outputs": [
    {
     "name": "stderr",
     "output_type": "stream",
     "text": [
      "C:\\Users\\user\\anaconda3\\Lib\\site-packages\\keras\\src\\layers\\core\\input_layer.py:27: UserWarning: Argument `input_shape` is deprecated. Use `shape` instead.\n",
      "  warnings.warn(\n",
      "C:\\Users\\user\\anaconda3\\Lib\\site-packages\\keras\\src\\layers\\convolutional\\base_conv.py:113: UserWarning: Do not pass an `input_shape`/`input_dim` argument to a layer. When using Sequential models, prefer using an `Input(shape)` object as the first layer in the model instead.\n",
      "  super().__init__(activity_regularizer=activity_regularizer, **kwargs)\n"
     ]
    }
   ],
   "source": [
    "# CNN model\n",
    "model = Sequential([\n",
    "    tf.keras.layers.InputLayer(input_shape=(48,48,1)),\n",
    "    Conv2D(32, (3,3), activation='relu', input_shape=(48,48,1)),\n",
    "    BatchNormalization(),\n",
    "    MaxPooling2D(2,2),\n",
    "    \n",
    "    Conv2D(64, (3,3), activation='relu'),\n",
    "    BatchNormalization(),\n",
    "    MaxPooling2D(2,2),\n",
    "    \n",
    "    Conv2D(128, (3,3), activation='relu'),\n",
    "    BatchNormalization(),\n",
    "    MaxPooling2D(2,2),\n",
    "\n",
    "    Flatten(),\n",
    "    Dense(128, activation='relu'),\n",
    "    Dropout(0.5),\n",
    "    Dense(len(emotion_map), activation='softmax')\n",
    "])\n",
    "model.compile(optimizer='adam', loss='categorical_crossentropy', metrics=['accuracy'])"
   ]
  },
  {
   "cell_type": "code",
   "execution_count": 18,
   "id": "e1f5d044-6a6c-4698-b7ee-dcb9ed67fd5e",
   "metadata": {},
   "outputs": [
    {
     "name": "stdout",
     "output_type": "stream",
     "text": [
      "Class Weights: {0: 1.0265957446808511, 1: 9.401146131805158, 2: 1.0012206286237413, 3: 0.5684338184338185, 4: 0.849120082815735, 5: 1.2932597556168703, 6: 0.8260322255790534}\n"
     ]
    }
   ],
   "source": [
    "#Compute class weights\n",
    "y_train_classes = np.argmax(y_train, axis=1)  # convert one-hot to integer labels\n",
    "class_weights = compute_class_weight(\n",
    "    class_weight=\"balanced\",\n",
    "    classes=np.unique(y_train_classes),\n",
    "    y=y_train_classes\n",
    ")\n",
    "class_weights = dict(enumerate(class_weights))\n",
    "\n",
    "print(\"Class Weights:\", class_weights)"
   ]
  },
  {
   "cell_type": "code",
   "execution_count": 19,
   "id": "b74ec0bb-2c69-484c-b6a5-40f952f7054d",
   "metadata": {},
   "outputs": [
    {
     "name": "stderr",
     "output_type": "stream",
     "text": [
      "C:\\Users\\user\\anaconda3\\Lib\\site-packages\\keras\\src\\trainers\\data_adapters\\py_dataset_adapter.py:121: UserWarning: Your `PyDataset` class should call `super().__init__(**kwargs)` in its constructor. `**kwargs` can include `workers`, `use_multiprocessing`, `max_queue_size`. Do not pass these arguments to `fit()`, as they will be ignored.\n",
      "  self._warn_if_super_not_called()\n"
     ]
    },
    {
     "name": "stdout",
     "output_type": "stream",
     "text": [
      "Epoch 1/15\n",
      "\u001b[1m359/359\u001b[0m \u001b[32m━━━━━━━━━━━━━━━━━━━━\u001b[0m\u001b[37m\u001b[0m \u001b[1m77s\u001b[0m 191ms/step - accuracy: 0.1423 - loss: 2.2234 - val_accuracy: 0.2163 - val_loss: 1.8580\n",
      "Epoch 2/15\n",
      "\u001b[1m359/359\u001b[0m \u001b[32m━━━━━━━━━━━━━━━━━━━━\u001b[0m\u001b[37m\u001b[0m \u001b[1m63s\u001b[0m 175ms/step - accuracy: 0.1346 - loss: 1.9017 - val_accuracy: 0.2584 - val_loss: 1.8689\n",
      "Epoch 3/15\n",
      "\u001b[1m359/359\u001b[0m \u001b[32m━━━━━━━━━━━━━━━━━━━━\u001b[0m\u001b[37m\u001b[0m \u001b[1m64s\u001b[0m 179ms/step - accuracy: 0.1771 - loss: 1.8640 - val_accuracy: 0.1552 - val_loss: 1.8467\n",
      "Epoch 4/15\n",
      "\u001b[1m359/359\u001b[0m \u001b[32m━━━━━━━━━━━━━━━━━━━━\u001b[0m\u001b[37m\u001b[0m \u001b[1m64s\u001b[0m 177ms/step - accuracy: 0.1882 - loss: 1.8582 - val_accuracy: 0.2137 - val_loss: 1.7850\n",
      "Epoch 5/15\n",
      "\u001b[1m359/359\u001b[0m \u001b[32m━━━━━━━━━━━━━━━━━━━━\u001b[0m\u001b[37m\u001b[0m \u001b[1m64s\u001b[0m 177ms/step - accuracy: 0.2229 - loss: 1.8377 - val_accuracy: 0.2983 - val_loss: 1.7455\n",
      "Epoch 6/15\n",
      "\u001b[1m359/359\u001b[0m \u001b[32m━━━━━━━━━━━━━━━━━━━━\u001b[0m\u001b[37m\u001b[0m \u001b[1m63s\u001b[0m 174ms/step - accuracy: 0.2423 - loss: 1.8071 - val_accuracy: 0.3074 - val_loss: 1.8093\n",
      "Epoch 7/15\n",
      "\u001b[1m359/359\u001b[0m \u001b[32m━━━━━━━━━━━━━━━━━━━━\u001b[0m\u001b[37m\u001b[0m \u001b[1m64s\u001b[0m 177ms/step - accuracy: 0.2747 - loss: 1.7890 - val_accuracy: 0.2325 - val_loss: 1.8479\n",
      "Epoch 8/15\n",
      "\u001b[1m359/359\u001b[0m \u001b[32m━━━━━━━━━━━━━━━━━━━━\u001b[0m\u001b[37m\u001b[0m \u001b[1m63s\u001b[0m 174ms/step - accuracy: 0.2991 - loss: 1.7394 - val_accuracy: 0.2588 - val_loss: 1.8305\n",
      "Epoch 9/15\n",
      "\u001b[1m359/359\u001b[0m \u001b[32m━━━━━━━━━━━━━━━━━━━━\u001b[0m\u001b[37m\u001b[0m \u001b[1m63s\u001b[0m 176ms/step - accuracy: 0.3034 - loss: 1.7653 - val_accuracy: 0.4032 - val_loss: 1.5409\n",
      "Epoch 10/15\n",
      "\u001b[1m359/359\u001b[0m \u001b[32m━━━━━━━━━━━━━━━━━━━━\u001b[0m\u001b[37m\u001b[0m \u001b[1m63s\u001b[0m 176ms/step - accuracy: 0.3137 - loss: 1.7245 - val_accuracy: 0.3086 - val_loss: 1.6815\n",
      "Epoch 11/15\n",
      "\u001b[1m359/359\u001b[0m \u001b[32m━━━━━━━━━━━━━━━━━━━━\u001b[0m\u001b[37m\u001b[0m \u001b[1m66s\u001b[0m 184ms/step - accuracy: 0.3294 - loss: 1.6754 - val_accuracy: 0.3969 - val_loss: 1.5500\n",
      "Epoch 12/15\n",
      "\u001b[1m359/359\u001b[0m \u001b[32m━━━━━━━━━━━━━━━━━━━━\u001b[0m\u001b[37m\u001b[0m \u001b[1m71s\u001b[0m 197ms/step - accuracy: 0.3444 - loss: 1.6641 - val_accuracy: 0.4133 - val_loss: 1.5199\n",
      "Epoch 13/15\n",
      "\u001b[1m359/359\u001b[0m \u001b[32m━━━━━━━━━━━━━━━━━━━━\u001b[0m\u001b[37m\u001b[0m \u001b[1m76s\u001b[0m 210ms/step - accuracy: 0.3521 - loss: 1.6559 - val_accuracy: 0.4110 - val_loss: 1.5506\n",
      "Epoch 14/15\n",
      "\u001b[1m359/359\u001b[0m \u001b[32m━━━━━━━━━━━━━━━━━━━━\u001b[0m\u001b[37m\u001b[0m \u001b[1m71s\u001b[0m 197ms/step - accuracy: 0.3573 - loss: 1.6393 - val_accuracy: 0.4054 - val_loss: 1.5647\n",
      "Epoch 15/15\n",
      "\u001b[1m359/359\u001b[0m \u001b[32m━━━━━━━━━━━━━━━━━━━━\u001b[0m\u001b[37m\u001b[0m \u001b[1m65s\u001b[0m 181ms/step - accuracy: 0.3643 - loss: 1.5848 - val_accuracy: 0.4192 - val_loss: 1.5184\n"
     ]
    }
   ],
   "source": [
    "# Train the model\n",
    "history = model.fit(train_gen, epochs=15, validation_data=val_gen, class_weight=class_weights)"
   ]
  },
  {
   "cell_type": "markdown",
   "id": "14b42847-1964-4aad-b13d-f3876e888778",
   "metadata": {},
   "source": [
    "# EVALUATION"
   ]
  },
  {
   "cell_type": "code",
   "execution_count": 20,
   "id": "1946f212-bd98-4947-a3ef-23b1ec1b8cf9",
   "metadata": {},
   "outputs": [],
   "source": [
    "from sklearn.metrics import classification_report, confusion_matrix\n",
    "import seaborn as sns"
   ]
  },
  {
   "cell_type": "code",
   "execution_count": 21,
   "id": "5eba1d46-eca7-4669-80ab-fac6ca3941bf",
   "metadata": {},
   "outputs": [
    {
     "name": "stdout",
     "output_type": "stream",
     "text": [
      "\u001b[1m90/90\u001b[0m \u001b[32m━━━━━━━━━━━━━━━━━━━━\u001b[0m\u001b[37m\u001b[0m \u001b[1m4s\u001b[0m 34ms/step\n"
     ]
    }
   ],
   "source": [
    "# Get predictions on validation set\n",
    "y_val_pred = model.predict(val_gen)\n",
    "y_val_pred_classes = np.argmax(y_val_pred, axis=1)\n",
    "y_val_true = np.argmax(y_val, axis=1)"
   ]
  },
  {
   "cell_type": "code",
   "execution_count": 22,
   "id": "81640290-a062-41ee-b9b4-d34eed601b62",
   "metadata": {},
   "outputs": [],
   "source": [
    "# Confusion Matrix\n",
    "cm = confusion_matrix(y_val_true, y_val_pred_classes)"
   ]
  },
  {
   "cell_type": "code",
   "execution_count": 23,
   "id": "61645cb1-9f26-4b98-9855-d5cb17e6587c",
   "metadata": {},
   "outputs": [
    {
     "data": {
      "image/png": "[encoded data removed]",
      "text/plain": [
       "<Figure size 800x600 with 2 Axes>"
      ]
     },
     "metadata": {},
     "output_type": "display_data"
    }
   ],
   "source": [
    "plt.figure(figsize=(8,6))\n",
    "sns.heatmap(cm, annot=True, fmt=\"d\", cmap=\"Blues\",\n",
    "            xticklabels=emotion_map.values(),\n",
    "            yticklabels=emotion_map.values())\n",
    "plt.title(\"Confusion Matrix (With Class Weights)\")\n",
    "plt.xlabel(\"Predicted\")\n",
    "plt.ylabel(\"True\")\n",
    "plt.show()"
   ]
  },
  {
   "cell_type": "code",
   "execution_count": 24,
   "id": "c5055bc1-bea1-465c-a997-f70fd1172427",
   "metadata": {},
   "outputs": [
    {
     "name": "stdout",
     "output_type": "stream",
     "text": [
      "Classification Report (With Class Weights):\n",
      "\n",
      "              precision    recall  f1-score   support\n",
      "\n",
      "       Angry       0.15      0.13      0.14       799\n",
      "     Disgust       0.02      0.18      0.04        87\n",
      "        Fear       0.14      0.03      0.04       820\n",
      "       Happy       0.25      0.27      0.26      1443\n",
      "         Sad       0.17      0.19      0.18       966\n",
      "    Surprise       0.12      0.10      0.11       634\n",
      "     Neutral       0.16      0.18      0.17       993\n",
      "\n",
      "    accuracy                           0.17      5742\n",
      "   macro avg       0.15      0.15      0.13      5742\n",
      "weighted avg       0.17      0.17      0.16      5742\n",
      "\n"
     ]
    }
   ],
   "source": [
    "# Classification Report \n",
    "print(\"Classification Report (With Class Weights):\\n\")\n",
    "print(classification_report(\n",
    "    y_val_true, y_val_pred_classes,\n",
    "    target_names=emotion_map.values(),\n",
    "    zero_division=0   # averts warnings for missing classes\n",
    "))"
   ]
  },
  {
   "cell_type": "markdown",
   "id": "ca30f4e1-da27-4c21-9a80-4cef79469a77",
   "metadata": {},
   "source": [
    "# Grad-CAM EXPLAINABILITY"
   ]
  },
  {
   "cell_type": "code",
   "execution_count": 25,
   "id": "40d7960e-933c-4894-ab17-bb2eaf3ecccf",
   "metadata": {
    "collapsed": true,
    "jupyter": {
     "outputs_hidden": true
    }
   },
   "outputs": [
    {
     "name": "stdout",
     "output_type": "stream",
     "text": [
      "Requirement already satisfied: opencv-python in c:\\users\\user\\anaconda3\\lib\\site-packages (4.12.0.88)\n",
      "Collecting numpy<2.3.0,>=2 (from opencv-python)\n",
      "  Using cached numpy-2.2.6-cp312-cp312-win_amd64.whl.metadata (60 kB)\n",
      "Using cached numpy-2.2.6-cp312-cp312-win_amd64.whl (12.6 MB)\n",
      "Installing collected packages: numpy\n",
      "  Attempting uninstall: numpy\n",
      "    Found existing installation: numpy 1.26.4\n",
      "    Uninstalling numpy-1.26.4:\n",
      "      Successfully uninstalled numpy-1.26.4\n",
      "Successfully installed numpy-2.2.6\n"
     ]
    },
    {
     "name": "stderr",
     "output_type": "stream",
     "text": [
      "  WARNING: Failed to remove contents in a temporary directory 'C:\\Users\\user\\anaconda3\\Lib\\site-packages\\~-mpy.libs'.\n",
      "  You can safely remove it manually.\n",
      "  WARNING: Failed to remove contents in a temporary directory 'C:\\Users\\user\\anaconda3\\Lib\\site-packages\\~~mpy'.\n",
      "  You can safely remove it manually.\n",
      "ERROR: pip's dependency resolver does not currently take into account all the packages that are installed. This behaviour is the source of the following dependency conflicts.\n",
      "contourpy 1.2.0 requires numpy<2.0,>=1.20, but you have numpy 2.2.6 which is incompatible.\n",
      "deeplake 3.9.51 requires numpy==1.26.4, but you have numpy 2.2.6 which is incompatible.\n",
      "gensim 4.3.3 requires numpy<2.0,>=1.18.5, but you have numpy 2.2.6 which is incompatible.\n",
      "numba 0.60.0 requires numpy<2.1,>=1.22, but you have numpy 2.2.6 which is incompatible.\n"
     ]
    }
   ],
   "source": [
    "!pip install opencv-python"
   ]
  },
  {
   "cell_type": "code",
   "execution_count": 26,
   "id": "c23ea1bb-8aac-4dca-b5c4-120aa9a2e097",
   "metadata": {},
   "outputs": [],
   "source": [
    "import cv2"
   ]
  },
  {
   "cell_type": "code",
   "execution_count": 35,
   "id": "6fe7d6de-6f08-45b6-9e9d-b20b9619fba1",
   "metadata": {},
   "outputs": [],
   "source": [
    "def get_gradcam_heatmap(model, image, layer_name=None):\n",
    "    if layer_name is None:\n",
    "        for layer in reversed(model.layers):\n",
    "            if isinstance(layer, tf.keras.layers.Conv2D):\n",
    "                layer_name = layer.name\n",
    "                break\n",
    "\n",
    "    # Force a forward pass so the graph is built\n",
    "    _ = model(image)\n",
    "\n",
    "    # Now build grad model safely\n",
    "    grad_model = tf.keras.models.Model(\n",
    "        inputs=model.input,\n",
    "        outputs=[model.get_layer(layer_name).output, model.output]\n",
    "    )\n",
    "\n",
    "    with tf.GradientTape() as tape:\n",
    "        conv_outputs, predictions = grad_model(image)\n",
    "        class_idx = tf.argmax(predictions[0])\n",
    "        loss = predictions[:, class_idx]\n",
    "\n",
    "    grads = tape.gradient(loss, conv_outputs)\n",
    "    pooled_grads = tf.reduce_mean(grads, axis=(0, 1, 2))\n",
    "\n",
    "    conv_outputs = conv_outputs[0]\n",
    "    heatmap = tf.reduce_mean(tf.multiply(pooled_grads, conv_outputs), axis=-1)\n",
    "    heatmap = np.maximum(heatmap, 0) / (np.max(heatmap) + 1e-10)\n",
    "\n",
    "    return heatmap, class_idx.numpy()\n"
   ]
  },
  {
   "cell_type": "markdown",
   "id": "1b5ac021-30b5-4c4b-badb-6b41fcca98be",
   "metadata": {},
   "source": [
    "# DEPLOYMENT: API AND WEB APP"
   ]
  },
  {
   "cell_type": "code",
   "execution_count": 34,
   "id": "f65573d8-594a-491c-a5af-570f2ce85c19",
   "metadata": {},
   "outputs": [],
   "source": [
    "# Save model\n",
    "model.save(\"my_model.keras\")"
   ]
  },
  {
   "cell_type": "code",
   "execution_count": null,
   "id": "a134a831-733c-43b0-bb38-81db34fbff2a",
   "metadata": {},
   "outputs": [],
   "source": []
  }
 ],
 "metadata": {
  "kernelspec": {
   "display_name": "Python 3 (ipykernel)",
   "language": "python",
   "name": "python3"
  },
  "language_info": {
   "codemirror_mode": {
    "name": "ipython",
    "version": 3
   },
   "file_extension": ".py",
   "mimetype": "text/x-python",
   "name": "python",
   "nbconvert_exporter": "python",
   "pygments_lexer": "ipython3",
   "version": "3.12.3"
  }
 },
 "nbformat": 4,
 "nbformat_minor": 5
}
